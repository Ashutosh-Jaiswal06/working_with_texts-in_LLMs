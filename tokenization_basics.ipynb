{
  "nbformat": 4,
  "nbformat_minor": 0,
  "metadata": {
    "colab": {
      "provenance": []
    },
    "kernelspec": {
      "name": "python3",
      "display_name": "Python 3"
    },
    "language_info": {
      "name": "python"
    }
  },
  "cells": [
    {
      "cell_type": "code",
      "execution_count": 1,
      "metadata": {
        "colab": {
          "base_uri": "https://localhost:8080/",
          "height": 98
        },
        "id": "JrD2aw8kJNRw",
        "outputId": "19d5378d-7bbc-40c6-9c0c-e16725709742"
      },
      "outputs": [
        {
          "output_type": "display_data",
          "data": {
            "text/plain": [
              "<IPython.core.display.HTML object>"
            ],
            "text/html": [
              "\n",
              "     <input type=\"file\" id=\"files-4ed4c420-d97b-4c71-bc8a-24fa862a5ac6\" name=\"files[]\" multiple disabled\n",
              "        style=\"border:none\" />\n",
              "     <output id=\"result-4ed4c420-d97b-4c71-bc8a-24fa862a5ac6\">\n",
              "      Upload widget is only available when the cell has been executed in the\n",
              "      current browser session. Please rerun this cell to enable.\n",
              "      </output>\n",
              "      <script>// Copyright 2017 Google LLC\n",
              "//\n",
              "// Licensed under the Apache License, Version 2.0 (the \"License\");\n",
              "// you may not use this file except in compliance with the License.\n",
              "// You may obtain a copy of the License at\n",
              "//\n",
              "//      http://www.apache.org/licenses/LICENSE-2.0\n",
              "//\n",
              "// Unless required by applicable law or agreed to in writing, software\n",
              "// distributed under the License is distributed on an \"AS IS\" BASIS,\n",
              "// WITHOUT WARRANTIES OR CONDITIONS OF ANY KIND, either express or implied.\n",
              "// See the License for the specific language governing permissions and\n",
              "// limitations under the License.\n",
              "\n",
              "/**\n",
              " * @fileoverview Helpers for google.colab Python module.\n",
              " */\n",
              "(function(scope) {\n",
              "function span(text, styleAttributes = {}) {\n",
              "  const element = document.createElement('span');\n",
              "  element.textContent = text;\n",
              "  for (const key of Object.keys(styleAttributes)) {\n",
              "    element.style[key] = styleAttributes[key];\n",
              "  }\n",
              "  return element;\n",
              "}\n",
              "\n",
              "// Max number of bytes which will be uploaded at a time.\n",
              "const MAX_PAYLOAD_SIZE = 100 * 1024;\n",
              "\n",
              "function _uploadFiles(inputId, outputId) {\n",
              "  const steps = uploadFilesStep(inputId, outputId);\n",
              "  const outputElement = document.getElementById(outputId);\n",
              "  // Cache steps on the outputElement to make it available for the next call\n",
              "  // to uploadFilesContinue from Python.\n",
              "  outputElement.steps = steps;\n",
              "\n",
              "  return _uploadFilesContinue(outputId);\n",
              "}\n",
              "\n",
              "// This is roughly an async generator (not supported in the browser yet),\n",
              "// where there are multiple asynchronous steps and the Python side is going\n",
              "// to poll for completion of each step.\n",
              "// This uses a Promise to block the python side on completion of each step,\n",
              "// then passes the result of the previous step as the input to the next step.\n",
              "function _uploadFilesContinue(outputId) {\n",
              "  const outputElement = document.getElementById(outputId);\n",
              "  const steps = outputElement.steps;\n",
              "\n",
              "  const next = steps.next(outputElement.lastPromiseValue);\n",
              "  return Promise.resolve(next.value.promise).then((value) => {\n",
              "    // Cache the last promise value to make it available to the next\n",
              "    // step of the generator.\n",
              "    outputElement.lastPromiseValue = value;\n",
              "    return next.value.response;\n",
              "  });\n",
              "}\n",
              "\n",
              "/**\n",
              " * Generator function which is called between each async step of the upload\n",
              " * process.\n",
              " * @param {string} inputId Element ID of the input file picker element.\n",
              " * @param {string} outputId Element ID of the output display.\n",
              " * @return {!Iterable<!Object>} Iterable of next steps.\n",
              " */\n",
              "function* uploadFilesStep(inputId, outputId) {\n",
              "  const inputElement = document.getElementById(inputId);\n",
              "  inputElement.disabled = false;\n",
              "\n",
              "  const outputElement = document.getElementById(outputId);\n",
              "  outputElement.innerHTML = '';\n",
              "\n",
              "  const pickedPromise = new Promise((resolve) => {\n",
              "    inputElement.addEventListener('change', (e) => {\n",
              "      resolve(e.target.files);\n",
              "    });\n",
              "  });\n",
              "\n",
              "  const cancel = document.createElement('button');\n",
              "  inputElement.parentElement.appendChild(cancel);\n",
              "  cancel.textContent = 'Cancel upload';\n",
              "  const cancelPromise = new Promise((resolve) => {\n",
              "    cancel.onclick = () => {\n",
              "      resolve(null);\n",
              "    };\n",
              "  });\n",
              "\n",
              "  // Wait for the user to pick the files.\n",
              "  const files = yield {\n",
              "    promise: Promise.race([pickedPromise, cancelPromise]),\n",
              "    response: {\n",
              "      action: 'starting',\n",
              "    }\n",
              "  };\n",
              "\n",
              "  cancel.remove();\n",
              "\n",
              "  // Disable the input element since further picks are not allowed.\n",
              "  inputElement.disabled = true;\n",
              "\n",
              "  if (!files) {\n",
              "    return {\n",
              "      response: {\n",
              "        action: 'complete',\n",
              "      }\n",
              "    };\n",
              "  }\n",
              "\n",
              "  for (const file of files) {\n",
              "    const li = document.createElement('li');\n",
              "    li.append(span(file.name, {fontWeight: 'bold'}));\n",
              "    li.append(span(\n",
              "        `(${file.type || 'n/a'}) - ${file.size} bytes, ` +\n",
              "        `last modified: ${\n",
              "            file.lastModifiedDate ? file.lastModifiedDate.toLocaleDateString() :\n",
              "                                    'n/a'} - `));\n",
              "    const percent = span('0% done');\n",
              "    li.appendChild(percent);\n",
              "\n",
              "    outputElement.appendChild(li);\n",
              "\n",
              "    const fileDataPromise = new Promise((resolve) => {\n",
              "      const reader = new FileReader();\n",
              "      reader.onload = (e) => {\n",
              "        resolve(e.target.result);\n",
              "      };\n",
              "      reader.readAsArrayBuffer(file);\n",
              "    });\n",
              "    // Wait for the data to be ready.\n",
              "    let fileData = yield {\n",
              "      promise: fileDataPromise,\n",
              "      response: {\n",
              "        action: 'continue',\n",
              "      }\n",
              "    };\n",
              "\n",
              "    // Use a chunked sending to avoid message size limits. See b/62115660.\n",
              "    let position = 0;\n",
              "    do {\n",
              "      const length = Math.min(fileData.byteLength - position, MAX_PAYLOAD_SIZE);\n",
              "      const chunk = new Uint8Array(fileData, position, length);\n",
              "      position += length;\n",
              "\n",
              "      const base64 = btoa(String.fromCharCode.apply(null, chunk));\n",
              "      yield {\n",
              "        response: {\n",
              "          action: 'append',\n",
              "          file: file.name,\n",
              "          data: base64,\n",
              "        },\n",
              "      };\n",
              "\n",
              "      let percentDone = fileData.byteLength === 0 ?\n",
              "          100 :\n",
              "          Math.round((position / fileData.byteLength) * 100);\n",
              "      percent.textContent = `${percentDone}% done`;\n",
              "\n",
              "    } while (position < fileData.byteLength);\n",
              "  }\n",
              "\n",
              "  // All done.\n",
              "  yield {\n",
              "    response: {\n",
              "      action: 'complete',\n",
              "    }\n",
              "  };\n",
              "}\n",
              "\n",
              "scope.google = scope.google || {};\n",
              "scope.google.colab = scope.google.colab || {};\n",
              "scope.google.colab._files = {\n",
              "  _uploadFiles,\n",
              "  _uploadFilesContinue,\n",
              "};\n",
              "})(self);\n",
              "</script> "
            ]
          },
          "metadata": {}
        },
        {
          "output_type": "stream",
          "name": "stdout",
          "text": [
            "Saving 01 Harry Potter and the Sorcerers Stone.txt to 01 Harry Potter and the Sorcerers Stone.txt\n"
          ]
        }
      ],
      "source": [
        "from google.colab import files\n",
        "uploaded = files.upload()"
      ]
    },
    {
      "cell_type": "code",
      "source": [
        "filename = \"01 Harry Potter and the Sorcerers Stone.txt\"\n",
        "\n",
        "with open(filename, 'r', encoding='utf-8') as f:\n",
        "    content = f.read()\n",
        "\n",
        "print(\"Total number of characters are\" , len(content))\n",
        "\n",
        "print(content[:999])\n"
      ],
      "metadata": {
        "colab": {
          "base_uri": "https://localhost:8080/"
        },
        "id": "xAagmz-kLpLx",
        "outputId": "2d1f3e73-1309-4ed3-db7f-1aed319c7ce9"
      },
      "execution_count": 4,
      "outputs": [
        {
          "output_type": "stream",
          "name": "stdout",
          "text": [
            "Total number of characters are 439478\n",
            "M r. and Mrs. Dursley, of number four, Privet Drive, were proud to say that they were perfectly normal, thank you very much. They were the last people you’d expect to be involved in anything strange or mysterious, because they just didn’t hold with such nonsense.\n",
            "\n",
            "Mr. Dursley was the director of a firm called Grunnings, which made drills. He was a big, beefy man with hardly any neck, although he did have a very large mustache. Mrs. Dursley was thin and blonde and had nearly twice the usual amount of neck, which came in very useful as she spent so much of her time craning over garden fences, spying on the neighbors. The Dursleys had a small son called Dudley and in their opinion there was no finer boy anywhere.\n",
            "\n",
            "The Dursleys had everything they wanted, but they also had a secret, and their greatest fear was that somebody would discover it. They didn’t think they could bear it if anyone found out about the Potters. Mrs. Potter was Mrs. Dursley’s sister, but they hadn’t met for several y\n"
          ]
        }
      ]
    },
    {
      "cell_type": "markdown",
      "source": [
        "Our goal is to tokenize this 2439478-character short story into individual words and special characters that we can then turn into embeddings for LLM training"
      ],
      "metadata": {
        "id": "Bh_3OA77OfzB"
      }
    },
    {
      "cell_type": "markdown",
      "source": [
        "To do so we are going to use re library"
      ],
      "metadata": {
        "id": "SPmxE7m2Pdsh"
      }
    },
    {
      "cell_type": "code",
      "source": [
        "import re\n",
        "text = \"Hello dear, My name is Ashu.\"\n",
        "result = re.split(r'([,.]|\\s)',text)\n",
        "print(result)\n"
      ],
      "metadata": {
        "colab": {
          "base_uri": "https://localhost:8080/"
        },
        "id": "sC_YbUuOOiCG",
        "outputId": "f558c187-a309-43d3-9730-c102c17423e2"
      },
      "execution_count": 6,
      "outputs": [
        {
          "output_type": "stream",
          "name": "stdout",
          "text": [
            "['Hello', ' ', 'dear', ',', '', ' ', 'My', ' ', 'name', ' ', 'is', ' ', 'Ashu', '.', '']\n"
          ]
        }
      ]
    },
    {
      "cell_type": "markdown",
      "source": [
        "A small remaining issue is that the list still includes whitespace characters. Optionally, we can remove these redundant characters safely as follows:\n"
      ],
      "metadata": {
        "id": "4gMv75G5SY4H"
      }
    },
    {
      "cell_type": "code",
      "source": [
        "result = [item for item in result if item.strip()]\n",
        "print(result)"
      ],
      "metadata": {
        "colab": {
          "base_uri": "https://localhost:8080/"
        },
        "id": "ms2yWPyTOMTg",
        "outputId": "ba5bc4fe-3352-4d0b-e7dd-b718a9e265f0"
      },
      "execution_count": 7,
      "outputs": [
        {
          "output_type": "stream",
          "name": "stdout",
          "text": [
            "['Hello', 'dear', ',', 'My', 'name', 'is', 'Ashu', '.']\n"
          ]
        }
      ]
    },
    {
      "cell_type": "markdown",
      "source": [
        "REMOVING WHITESPACES OR NOT\n",
        "\n",
        "When developing a simple tokenizer, whether we should encode whitespaces as separate characters or just remove them depends on our application and its requirements. Removing whitespaces reduces the memory and computing requirements. However, keeping whitespaces can be useful if we train models that are sensitive to the exact structure of the text (for example, Python code, which is sensitive to indentation and spacing). Here, we remove whitespaces for simplicity and brevity of the tokenized outputs. Later, we will switch to a tokenization scheme that includes whitespaces."
      ],
      "metadata": {
        "id": "XCwu-ZRIS3sz"
      }
    },
    {
      "cell_type": "markdown",
      "source": [
        "The tokenization scheme we devised above works well on the simple sample text. Let's modify it a bit further so that it can also handle other types of punctuation, such as question marks, quotation marks, and the double-dashes"
      ],
      "metadata": {
        "id": "AVreD_P5TMzJ"
      }
    },
    {
      "cell_type": "code",
      "source": [
        "text = \"hello world! IS this-- Ashu?\"\n",
        "result = re.split(r'([,.;:_?!\"()\\']|--|\\s)' , text)\n",
        "result = [item for item in result if item.strip()]\n",
        "print(result)"
      ],
      "metadata": {
        "colab": {
          "base_uri": "https://localhost:8080/"
        },
        "id": "Ozrw_PKdSvyn",
        "outputId": "02aa7895-2116-4462-99e8-389232f198e8"
      },
      "execution_count": 11,
      "outputs": [
        {
          "output_type": "stream",
          "name": "stdout",
          "text": [
            "['hello', 'world', '!', 'IS', 'this', '--', 'Ashu', '?']\n"
          ]
        }
      ]
    },
    {
      "cell_type": "markdown",
      "source": [
        "Now that we got a basic tokenizer working, let's apply it to Harry Potter's entire story:"
      ],
      "metadata": {
        "id": "Sgw_cQ74VNQN"
      }
    },
    {
      "cell_type": "code",
      "source": [
        "preprocessed = re.split(r'([,.:;?_!\"()\\']|--|\\s)', content)\n",
        "preprocessed = [item.strip() for item in preprocessed if item.strip()]\n",
        "print(preprocessed[:300])\n"
      ],
      "metadata": {
        "colab": {
          "base_uri": "https://localhost:8080/"
        },
        "id": "f_GMrtYfUSvc",
        "outputId": "5983c5c1-f41f-41e3-d289-7f325a542fd9"
      },
      "execution_count": 14,
      "outputs": [
        {
          "output_type": "stream",
          "name": "stdout",
          "text": [
            "['M', 'r', '.', 'and', 'Mrs', '.', 'Dursley', ',', 'of', 'number', 'four', ',', 'Privet', 'Drive', ',', 'were', 'proud', 'to', 'say', 'that', 'they', 'were', 'perfectly', 'normal', ',', 'thank', 'you', 'very', 'much', '.', 'They', 'were', 'the', 'last', 'people', 'you’d', 'expect', 'to', 'be', 'involved', 'in', 'anything', 'strange', 'or', 'mysterious', ',', 'because', 'they', 'just', 'didn’t', 'hold', 'with', 'such', 'nonsense', '.', 'Mr', '.', 'Dursley', 'was', 'the', 'director', 'of', 'a', 'firm', 'called', 'Grunnings', ',', 'which', 'made', 'drills', '.', 'He', 'was', 'a', 'big', ',', 'beefy', 'man', 'with', 'hardly', 'any', 'neck', ',', 'although', 'he', 'did', 'have', 'a', 'very', 'large', 'mustache', '.', 'Mrs', '.', 'Dursley', 'was', 'thin', 'and', 'blonde', 'and', 'had', 'nearly', 'twice', 'the', 'usual', 'amount', 'of', 'neck', ',', 'which', 'came', 'in', 'very', 'useful', 'as', 'she', 'spent', 'so', 'much', 'of', 'her', 'time', 'craning', 'over', 'garden', 'fences', ',', 'spying', 'on', 'the', 'neighbors', '.', 'The', 'Dursleys', 'had', 'a', 'small', 'son', 'called', 'Dudley', 'and', 'in', 'their', 'opinion', 'there', 'was', 'no', 'finer', 'boy', 'anywhere', '.', 'The', 'Dursleys', 'had', 'everything', 'they', 'wanted', ',', 'but', 'they', 'also', 'had', 'a', 'secret', ',', 'and', 'their', 'greatest', 'fear', 'was', 'that', 'somebody', 'would', 'discover', 'it', '.', 'They', 'didn’t', 'think', 'they', 'could', 'bear', 'it', 'if', 'anyone', 'found', 'out', 'about', 'the', 'Potters', '.', 'Mrs', '.', 'Potter', 'was', 'Mrs', '.', 'Dursley’s', 'sister', ',', 'but', 'they', 'hadn’t', 'met', 'for', 'several', 'years', ';', 'in', 'fact', ',', 'Mrs', '.', 'Dursley', 'pretended', 'she', 'didn’t', 'have', 'a', 'sister', ',', 'because', 'her', 'sister', 'and', 'her', 'good-for-nothing', 'husband', 'were', 'as', 'unDursleyish', 'as', 'it', 'was', 'possible', 'to', 'be', '.', 'The', 'Dursleys', 'shuddered', 'to', 'think', 'what', 'the', 'neighbors', 'would', 'say', 'if', 'the', 'Potters', 'arrived', 'in', 'the', 'street', '.', 'The', 'Dursleys', 'knew', 'that', 'the', 'Potters', 'had', 'a', 'small', 'son', ',', 'too', ',', 'but', 'they', 'had', 'never', 'even', 'seen', 'him', '.', 'This', 'boy', 'was', 'another', 'good', 'reason', 'for', 'keeping', 'the', 'Potters', 'away', ';', 'they', 'didn’t', 'want', 'Dudley', 'mixing', 'with', 'a', 'child', 'like', 'that', '.']\n"
          ]
        }
      ]
    },
    {
      "cell_type": "code",
      "source": [
        "print(len(preprocessed))"
      ],
      "metadata": {
        "colab": {
          "base_uri": "https://localhost:8080/"
        },
        "id": "U-d2meN_WRvx",
        "outputId": "25146a4b-ae57-49e5-f0f9-3a78230f6bd3"
      },
      "execution_count": 15,
      "outputs": [
        {
          "output_type": "stream",
          "name": "stdout",
          "text": [
            "93318\n"
          ]
        }
      ]
    },
    {
      "cell_type": "markdown",
      "source": [
        "**Step 2: Creating Token IDs**"
      ],
      "metadata": {
        "id": "GSq_cFkFXppA"
      }
    },
    {
      "cell_type": "code",
      "source": [
        "all_words = sorted(set(preprocessed))\n",
        "vocab_size = len(all_words)\n",
        "vocab_size"
      ],
      "metadata": {
        "colab": {
          "base_uri": "https://localhost:8080/"
        },
        "id": "_fbMwrFOWgq5",
        "outputId": "a71bb8f2-ea6d-406d-ed29-b8e8377c8da1"
      },
      "execution_count": 16,
      "outputs": [
        {
          "output_type": "execute_result",
          "data": {
            "text/plain": [
              "7572"
            ]
          },
          "metadata": {},
          "execution_count": 16
        }
      ]
    },
    {
      "cell_type": "markdown",
      "source": [
        "After determining that the vocabulary size is 7572 via the above code, we create the vocabulary and print its first 100 entries for illustration purposes:"
      ],
      "metadata": {
        "id": "YukIjp1UYfy0"
      }
    },
    {
      "cell_type": "code",
      "source": [
        "vocab = {token:integer for integer,token in enumerate(all_words)}"
      ],
      "metadata": {
        "id": "LINqngGgYZpf"
      },
      "execution_count": 17,
      "outputs": []
    },
    {
      "cell_type": "code",
      "source": [
        "for i, item in enumerate(vocab.items()):\n",
        "    print(item)\n",
        "    if i >= 99:\n",
        "        break"
      ],
      "metadata": {
        "colab": {
          "base_uri": "https://localhost:8080/"
        },
        "id": "CGyDvvpyZHRt",
        "outputId": "f5212b79-52b0-4f3a-9275-3a13d61bfc99"
      },
      "execution_count": 19,
      "outputs": [
        {
          "output_type": "stream",
          "name": "stdout",
          "text": [
            "('!', 0)\n",
            "(\"'\", 1)\n",
            "('(', 2)\n",
            "(')', 3)\n",
            "('*', 4)\n",
            "(',', 5)\n",
            "('-', 6)\n",
            "('-bodied', 7)\n",
            "('.', 8)\n",
            "('1', 9)\n",
            "('1473', 10)\n",
            "('1637', 11)\n",
            "('17', 12)\n",
            "('1709', 13)\n",
            "('1945', 14)\n",
            "('2', 15)\n",
            "('3', 16)\n",
            "('31', 17)\n",
            "('382', 18)\n",
            "('4', 19)\n",
            "(':', 20)\n",
            "(';', 21)\n",
            "('?', 22)\n",
            "('A', 23)\n",
            "('ALBUS', 24)\n",
            "('ALLEY', 25)\n",
            "('ALLOWED', 26)\n",
            "('AM', 27)\n",
            "('AND', 28)\n",
            "('ANYTHING', 29)\n",
            "('ARE', 30)\n",
            "('AT', 31)\n",
            "('About', 32)\n",
            "('According', 33)\n",
            "('Adalbert', 34)\n",
            "('Add', 35)\n",
            "('Adrian', 36)\n",
            "('Africa', 37)\n",
            "('African', 38)\n",
            "('After', 39)\n",
            "('Against', 40)\n",
            "('Ages', 41)\n",
            "('Agrippa', 42)\n",
            "('Ah', 43)\n",
            "('Ahead', 44)\n",
            "('Alberic', 45)\n",
            "('Albus', 46)\n",
            "('Albus…”', 47)\n",
            "('Algie', 48)\n",
            "('Alicia', 49)\n",
            "('All', 50)\n",
            "('Alley', 51)\n",
            "('Alohomora', 52)\n",
            "('Although', 53)\n",
            "('Always', 54)\n",
            "('An', 55)\n",
            "('And', 56)\n",
            "('Angelina', 57)\n",
            "('Another', 58)\n",
            "('Anti-Dark', 59)\n",
            "('Anticheating', 60)\n",
            "('Any', 61)\n",
            "('Anyone', 62)\n",
            "('Anything', 63)\n",
            "('Anythin’', 64)\n",
            "('Anyway', 65)\n",
            "('An’', 66)\n",
            "('Apothecary', 67)\n",
            "('Are', 68)\n",
            "('Argus', 69)\n",
            "('Around', 70)\n",
            "('Arsenius', 71)\n",
            "('Arts', 72)\n",
            "('As', 73)\n",
            "('Astronomy', 74)\n",
            "('At', 75)\n",
            "('August', 76)\n",
            "('Aunt', 77)\n",
            "('Auntie', 78)\n",
            "('B', 79)\n",
            "('BED', 80)\n",
            "('BEHIND', 81)\n",
            "('BELIEVE', 82)\n",
            "('BOOKS', 83)\n",
            "('BOOM', 84)\n",
            "('BREAK-IN', 85)\n",
            "('BROOMSTICKS', 86)\n",
            "('Back', 87)\n",
            "('Bagshot', 88)\n",
            "('Bane', 89)\n",
            "('Bane’ll', 90)\n",
            "('Barn', 91)\n",
            "('Baron', 92)\n",
            "('Baron’ll', 93)\n",
            "('Baron’s', 94)\n",
            "('Barrels', 95)\n",
            "('Bars', 96)\n",
            "('Baruffio', 97)\n",
            "('Bathilda', 98)\n",
            "('Beans', 99)\n"
          ]
        }
      ]
    },
    {
      "cell_type": "markdown",
      "source": [],
      "metadata": {
        "id": "nt7REvJehDeZ"
      }
    },
    {
      "cell_type": "markdown",
      "source": [
        " We want to convert the outputs of an LLM from numbers back into text, we also need a way to turn token IDs into text.\n",
        "\n",
        "For this, we can create an inverse version of the vocabulary that maps token IDs back to corresponding text tokens."
      ],
      "metadata": {
        "id": "K2ZviX7Ag1YH"
      }
    },
    {
      "cell_type": "markdown",
      "source": [
        "To do so we define a class for tokenisers in pyhton"
      ],
      "metadata": {
        "id": "BbyluPERhEnx"
      }
    },
    {
      "cell_type": "code",
      "source": [
        "class SimpleTokenizerV1:\n",
        "    def __init__(self, vocab):\n",
        "        self.str_to_int = vocab\n",
        "        self.int_to_str = {i:s for s,i in vocab.items()}\n",
        "\n",
        "    def encode(self, text):\n",
        "        preprocessed = re.split(r'([,.:;?_!\"()\\']|--|\\s)', text)\n",
        "\n",
        "        preprocessed = [\n",
        "            item.strip() for item in preprocessed if item.strip()\n",
        "        ]\n",
        "        ids = [self.str_to_int[s] for s in preprocessed]\n",
        "        return ids\n",
        "\n",
        "    def decode(self, ids):\n",
        "        text = \" \".join([self.int_to_str[i] for i in ids])\n",
        "        # Replace spaces before the specified punctuations\n",
        "        text = re.sub(r'\\s+([,.?!\"()\\'])', r'\\1', text)\n",
        "        return text"
      ],
      "metadata": {
        "id": "L938lxKBZKxE"
      },
      "execution_count": 20,
      "outputs": []
    },
    {
      "cell_type": "markdown",
      "source": [
        "Let's instantiate a new tokenizer object from the SimpleTokenizerV1 class and tokenize a passage from Edith Wharton's short story to try it out in practice:"
      ],
      "metadata": {
        "id": "N29izCK3hWXE"
      }
    },
    {
      "cell_type": "code",
      "source": [
        "tokenizer = SimpleTokenizerV1(vocab)\n",
        "text = \"Mr. Dursley was the director of a firm called Grunnings, which made drills. He was a big, beefy man with hardly any neck,\"\n",
        "\n",
        "ids = tokenizer.encode(text)\n",
        "print(ids)"
      ],
      "metadata": {
        "colab": {
          "base_uri": "https://localhost:8080/"
        },
        "id": "jkEcCoohhOAC",
        "outputId": "f348e695-00af-40cd-9f82-a823ebffbe3f"
      },
      "execution_count": 26,
      "outputs": [
        {
          "output_type": "stream",
          "name": "stdout",
          "text": [
            "[735, 8, 292, 6597, 6131, 2531, 4452, 1300, 2991, 1954, 472, 5, 6683, 4086, 2650, 8, 515, 6597, 1300, 1692, 5, 1633, 4100, 6770, 3468, 1431, 4354, 5]\n"
          ]
        }
      ]
    },
    {
      "cell_type": "markdown",
      "source": [],
      "metadata": {
        "id": "kZU41doEhVZ3"
      }
    },
    {
      "cell_type": "code",
      "source": [
        "tokenizer.decode(ids)"
      ],
      "metadata": {
        "colab": {
          "base_uri": "https://localhost:8080/",
          "height": 38
        },
        "id": "6nECbPf_iJZ_",
        "outputId": "83fd50e4-5cd2-49fa-fd54-615bdea32396"
      },
      "execution_count": 27,
      "outputs": [
        {
          "output_type": "execute_result",
          "data": {
            "text/plain": [
              "'Mr. Dursley was the director of a firm called Grunnings, which made drills. He was a big, beefy man with hardly any neck,'"
            ],
            "application/vnd.google.colaboratory.intrinsic+json": {
              "type": "string"
            }
          },
          "metadata": {},
          "execution_count": 27
        }
      ]
    },
    {
      "cell_type": "markdown",
      "source": [
        "So far, so good. We implemented a tokenizer capable of tokenizing and de-tokenizing text based on a snippet from the training set.\n",
        "\n",
        "Let's now apply it to a new text sample that is not contained in the training set:"
      ],
      "metadata": {
        "id": "NQ_BeAVwiXhe"
      }
    },
    {
      "cell_type": "code",
      "source": [
        "text = \"Harry, do you know about blockchain?\"\n",
        "print(tokenizer.encode(text))"
      ],
      "metadata": {
        "colab": {
          "base_uri": "https://localhost:8080/",
          "height": 300
        },
        "id": "PeDOCQ1riO4l",
        "outputId": "fc8b9f48-de2e-4dd5-ff6c-a4db128cadad"
      },
      "execution_count": 29,
      "outputs": [
        {
          "output_type": "error",
          "ename": "KeyError",
          "evalue": "'blockchain'",
          "traceback": [
            "\u001b[0;31m---------------------------------------------------------------------------\u001b[0m",
            "\u001b[0;31mKeyError\u001b[0m                                  Traceback (most recent call last)",
            "\u001b[0;32m/tmp/ipython-input-98939145.py\u001b[0m in \u001b[0;36m<cell line: 0>\u001b[0;34m()\u001b[0m\n\u001b[1;32m      1\u001b[0m \u001b[0mtext\u001b[0m \u001b[0;34m=\u001b[0m \u001b[0;34m\"Harry, do you know about blockchain?\"\u001b[0m\u001b[0;34m\u001b[0m\u001b[0;34m\u001b[0m\u001b[0m\n\u001b[0;32m----> 2\u001b[0;31m \u001b[0mprint\u001b[0m\u001b[0;34m(\u001b[0m\u001b[0mtokenizer\u001b[0m\u001b[0;34m.\u001b[0m\u001b[0mencode\u001b[0m\u001b[0;34m(\u001b[0m\u001b[0mtext\u001b[0m\u001b[0;34m)\u001b[0m\u001b[0;34m)\u001b[0m\u001b[0;34m\u001b[0m\u001b[0;34m\u001b[0m\u001b[0m\n\u001b[0m",
            "\u001b[0;32m/tmp/ipython-input-749492211.py\u001b[0m in \u001b[0;36mencode\u001b[0;34m(self, text)\u001b[0m\n\u001b[1;32m     10\u001b[0m             \u001b[0mitem\u001b[0m\u001b[0;34m.\u001b[0m\u001b[0mstrip\u001b[0m\u001b[0;34m(\u001b[0m\u001b[0;34m)\u001b[0m \u001b[0;32mfor\u001b[0m \u001b[0mitem\u001b[0m \u001b[0;32min\u001b[0m \u001b[0mpreprocessed\u001b[0m \u001b[0;32mif\u001b[0m \u001b[0mitem\u001b[0m\u001b[0;34m.\u001b[0m\u001b[0mstrip\u001b[0m\u001b[0;34m(\u001b[0m\u001b[0;34m)\u001b[0m\u001b[0;34m\u001b[0m\u001b[0;34m\u001b[0m\u001b[0m\n\u001b[1;32m     11\u001b[0m         ]\n\u001b[0;32m---> 12\u001b[0;31m         \u001b[0mids\u001b[0m \u001b[0;34m=\u001b[0m \u001b[0;34m[\u001b[0m\u001b[0mself\u001b[0m\u001b[0;34m.\u001b[0m\u001b[0mstr_to_int\u001b[0m\u001b[0;34m[\u001b[0m\u001b[0ms\u001b[0m\u001b[0;34m]\u001b[0m \u001b[0;32mfor\u001b[0m \u001b[0ms\u001b[0m \u001b[0;32min\u001b[0m \u001b[0mpreprocessed\u001b[0m\u001b[0;34m]\u001b[0m\u001b[0;34m\u001b[0m\u001b[0;34m\u001b[0m\u001b[0m\n\u001b[0m\u001b[1;32m     13\u001b[0m         \u001b[0;32mreturn\u001b[0m \u001b[0mids\u001b[0m\u001b[0;34m\u001b[0m\u001b[0;34m\u001b[0m\u001b[0m\n\u001b[1;32m     14\u001b[0m \u001b[0;34m\u001b[0m\u001b[0m\n",
            "\u001b[0;31mKeyError\u001b[0m: 'blockchain'"
          ]
        }
      ]
    },
    {
      "cell_type": "markdown",
      "source": [
        "The problem is that the word \"Blockchain\" was not used in the Harry Potter story.\n",
        "\n",
        "Hence, it is not contained in the vocabulary.\n",
        "\n",
        "This highlights the need to consider large and diverse training sets to extend the vocabulary when working on LLMs."
      ],
      "metadata": {
        "id": "YMN4hINYi8N_"
      }
    },
    {
      "cell_type": "markdown",
      "source": [
        "#ADDING SPECIAL CONTEXT TOKENS\n",
        "In the previous section, we implemented a simple tokenizer and applied it to a passage from the training set.\n",
        "\n",
        "In this section, we will modify this tokenizer to handle unknown words.\n",
        "\n",
        "In particular, we will modify the vocabulary and tokenizer we implemented in the previous section, SimpleTokenizerV2, to support two new tokens, <|unk|> and <|endoftext|>\n",
        "\n",
        "We can modify the tokenizer to use an <|unk|> token if it encounters a word that is not part of the vocabulary.\n",
        "\n",
        "Furthermore, we add a token between unrelated texts.\n",
        "\n",
        "For example, when training GPT-like LLMs on multiple independent documents or books, it is common to insert a token before each document or book that follows a previous text source\n",
        "\n",
        "Let's now modify the vocabulary to include these two special tokens, and <|endoftext|>, by adding these to the list of all unique words that we created in the previous section:"
      ],
      "metadata": {
        "id": "IHoJkw1lnk-7"
      }
    },
    {
      "cell_type": "code",
      "source": [
        "all_tokens = sorted(list(set(preprocessed)))\n",
        "all_tokens.extend([\"<|endoftext|>\", \"<|unk|>\"])\n",
        "\n",
        "vocab = {token:integer for integer,token in enumerate(all_tokens)}"
      ],
      "metadata": {
        "id": "pNeoKGycmsKy"
      },
      "execution_count": 33,
      "outputs": []
    },
    {
      "cell_type": "code",
      "source": [
        "print(len(all_tokens))"
      ],
      "metadata": {
        "colab": {
          "base_uri": "https://localhost:8080/"
        },
        "id": "JAVAdfdpoKpY",
        "outputId": "a2635f49-8fa8-4c62-ce3f-05197d07b102"
      },
      "execution_count": 34,
      "outputs": [
        {
          "output_type": "stream",
          "name": "stdout",
          "text": [
            "7574\n"
          ]
        }
      ]
    },
    {
      "cell_type": "markdown",
      "source": [
        "Based on the output of the print statement above, the new vocabulary size is 7574 (the vocabulary size in the previous section was 7572).\n",
        "\n",
        "As an additional quick check, let's print the last 5 entries of the updated vocabulary:"
      ],
      "metadata": {
        "id": "eGfyXw3koW1Q"
      }
    },
    {
      "cell_type": "code",
      "source": [
        "for i, item in enumerate(list(vocab.items())[-5:]):\n",
        "    print(item)"
      ],
      "metadata": {
        "colab": {
          "base_uri": "https://localhost:8080/"
        },
        "id": "gnd6nPyooQPm",
        "outputId": "ba8cb7a9-7830-42f1-d332-d27476df9652"
      },
      "execution_count": 35,
      "outputs": [
        {
          "output_type": "stream",
          "name": "stdout",
          "text": [
            "('…Oak', 7569)\n",
            "('…Then', 7570)\n",
            "('…”', 7571)\n",
            "('<|endoftext|>', 7572)\n",
            "('<|unk|>', 7573)\n"
          ]
        }
      ]
    },
    {
      "cell_type": "markdown",
      "source": [
        "A simple text tokenizer that handles unknown words\n",
        "\n",
        "Step 1: Replace unknown words by <|unk|> tokens\n",
        "\n",
        "Step 2: Replace spaces before the specified punctuations"
      ],
      "metadata": {
        "id": "gt6n0KiIooO8"
      }
    },
    {
      "cell_type": "code",
      "source": [
        "\n",
        "class SimpleTokenizerV2:\n",
        "    def __init__(self, vocab):\n",
        "        self.str_to_int = vocab\n",
        "        self.int_to_str = { i:s for s,i in vocab.items()}\n",
        "\n",
        "    def encode(self, text):\n",
        "        preprocessed = re.split(r'([,.:;?_!\"()\\']|--|\\s)', text)\n",
        "        preprocessed = [item.strip() for item in preprocessed if item.strip()]\n",
        "        preprocessed = [\n",
        "            item if item in self.str_to_int\n",
        "            else \"<|unk|>\" for item in preprocessed\n",
        "        ]\n",
        "\n",
        "        ids = [self.str_to_int[s] for s in preprocessed]\n",
        "        return ids\n",
        "\n",
        "    def decode(self, ids):\n",
        "        text = \" \".join([self.int_to_str[i] for i in ids])\n",
        "        # Replace spaces before the specified punctuations\n",
        "        text = re.sub(r'\\s+([,.:;?!\"()\\'])', r'\\1', text)\n",
        "        return text"
      ],
      "metadata": {
        "id": "y2JPEEGoofSf"
      },
      "execution_count": 36,
      "outputs": []
    },
    {
      "cell_type": "code",
      "source": [
        "tokenizer = SimpleTokenizerV2(vocab)\n",
        "\n",
        "text1 = \"Harry, do you know about blockchain?\"\n",
        "text2 = \"The Dursleys had everything they wanted, but they also had a secret, and their greatest fear was that somebody would discover it.\"\n",
        "\n",
        "text = \" <|endoftext|> \".join((text1, text2))\n",
        "\n",
        "print(text)"
      ],
      "metadata": {
        "colab": {
          "base_uri": "https://localhost:8080/"
        },
        "id": "HXUB0EILowOM",
        "outputId": "478e8906-9ae0-4206-9400-0ffdbe878123"
      },
      "execution_count": 37,
      "outputs": [
        {
          "output_type": "stream",
          "name": "stdout",
          "text": [
            "Harry, do you know about blockchain? <|endoftext|> The Dursleys had everything they wanted, but they also had a secret, and their greatest fear was that somebody would discover it.\n"
          ]
        }
      ]
    },
    {
      "cell_type": "code",
      "source": [
        "tokenizer.encode(text)"
      ],
      "metadata": {
        "colab": {
          "base_uri": "https://localhost:8080/"
        },
        "id": "kkVRfP-GpOtV",
        "outputId": "03336eb5-e35d-4bc7-e248-7a034e1373e5"
      },
      "execution_count": 38,
      "outputs": [
        {
          "output_type": "execute_result",
          "data": {
            "text/plain": [
              "[508,\n",
              " 5,\n",
              " 2569,\n",
              " 6871,\n",
              " 3867,\n",
              " 1306,\n",
              " 7573,\n",
              " 22,\n",
              " 7572,\n",
              " 1113,\n",
              " 293,\n",
              " 3418,\n",
              " 2817,\n",
              " 6144,\n",
              " 6580,\n",
              " 5,\n",
              " 1934,\n",
              " 6144,\n",
              " 1387,\n",
              " 3418,\n",
              " 1300,\n",
              " 5272,\n",
              " 5,\n",
              " 1404,\n",
              " 6132,\n",
              " 3360,\n",
              " 2922,\n",
              " 6597,\n",
              " 6126,\n",
              " 5625,\n",
              " 6817,\n",
              " 2542,\n",
              " 3760,\n",
              " 8]"
            ]
          },
          "metadata": {},
          "execution_count": 38
        }
      ]
    },
    {
      "cell_type": "code",
      "source": [
        "tokenizer.decode(tokenizer.encode(text))"
      ],
      "metadata": {
        "colab": {
          "base_uri": "https://localhost:8080/",
          "height": 38
        },
        "id": "HiFzSAl_pUlj",
        "outputId": "77333f00-f4b9-4c00-d990-f72a39dbf375"
      },
      "execution_count": 39,
      "outputs": [
        {
          "output_type": "execute_result",
          "data": {
            "text/plain": [
              "'Harry, do you know about <|unk|>? <|endoftext|> The Dursleys had everything they wanted, but they also had a secret, and their greatest fear was that somebody would discover it.'"
            ],
            "application/vnd.google.colaboratory.intrinsic+json": {
              "type": "string"
            }
          },
          "metadata": {},
          "execution_count": 39
        }
      ]
    },
    {
      "cell_type": "markdown",
      "source": [
        "Based on comparing the de-tokenized text above with the original input text, we know that the training dataset, Harry Potter story The Verdict, did not contain the words \"blockchain\"."
      ],
      "metadata": {
        "id": "zM6oZWVWpiev"
      }
    },
    {
      "cell_type": "markdown",
      "source": [
        "So far, we have discussed tokenization as an essential step in processing text as input to LLMs. Depending on the LLM, some researchers also consider additional special tokens such as the following:\n",
        "\n",
        "[BOS] (beginning of sequence): This token marks the start of a text. It signifies to the LLM where a piece of content begins.\n",
        "\n",
        "[EOS] (end of sequence): This token is positioned at the end of a text, and is especially useful when concatenating multiple unrelated texts, similar to <|endoftext|>. For instance, when combining two different Wikipedia articles or books, the [EOS] token indicates where one article ends and the next one begins.\n",
        "\n",
        "[PAD] (padding): When training LLMs with batch sizes larger than one, the batch might contain texts of varying lengths. To ensure all texts have the same length, the shorter texts are extended or \"padded\" using the [PAD] token, up to the length of the longest text in the batch.\n",
        "\n",
        "Note that the tokenizer used for GPT models does not need any of these tokens mentioned above but only uses an <|endoftext|> token for simplicity\n",
        "\n",
        "the tokenizer used for GPT models also doesn't use an <|unk|> token for outof-vocabulary words. Instead, GPT models use a byte pair encoding tokenizer, which breaks down words into subword units"
      ],
      "metadata": {
        "id": "SWvTD0RzpzB-"
      }
    },
    {
      "cell_type": "code",
      "source": [],
      "metadata": {
        "id": "JUiAOzaJpZei"
      },
      "execution_count": null,
      "outputs": []
    }
  ]
}